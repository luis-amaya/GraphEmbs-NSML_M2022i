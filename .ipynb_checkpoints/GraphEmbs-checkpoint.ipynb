{
 "cells": [
  {
   "cell_type": "markdown",
   "metadata": {
    "pycharm": {
     "name": "#%%\n"
    }
   },
   "source": [
    "# Proyecto Network Science and Machine Learning on Graphs\n",
    "## Basdo en el paper [Unsupervised network embeddings with node identity awareness](https://appliednetsci.springeropen.com/articles/10.1007/s41109-019-0197-1)\n",
    "### Integrantes Juan Sebastian Mina, Luis Gerardo Amaya, Jhon Jairo Galvis\n",
    "\n",
    "Trabajo realizado basado en el paper"
   ]
  },
  {
   "cell_type": "code",
   "execution_count": null,
   "metadata": {},
   "outputs": [],
   "source": [
    "import run_synthetic_graphs\n",
    "\n",
    "run_synthetic_graphs.main(1, 'ER')"
   ]
  },
  {
   "cell_type": "code",
   "execution_count": null,
   "metadata": {
    "pycharm": {
     "name": "#%%\n"
    }
   },
   "outputs": [],
   "source": []
  },
  {
   "cell_type": "code",
   "execution_count": null,
   "metadata": {},
   "outputs": [],
   "source": []
  }
 ],
 "metadata": {
  "kernelspec": {
   "display_name": "Python 3 (ipykernel)",
   "language": "python",
   "name": "python3"
  },
  "language_info": {
   "codemirror_mode": {
    "name": "ipython",
    "version": 3
   },
   "file_extension": ".py",
   "mimetype": "text/x-python",
   "name": "python",
   "nbconvert_exporter": "python",
   "pygments_lexer": "ipython3",
   "version": "3.10.4"
  }
 },
 "nbformat": 4,
 "nbformat_minor": 1
}
